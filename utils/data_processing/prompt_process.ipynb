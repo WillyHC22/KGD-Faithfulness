{
 "cells": [
  {
   "cell_type": "code",
   "execution_count": 70,
   "metadata": {},
   "outputs": [],
   "source": [
    "import csv\n",
    "import ast\n",
    "import numpy as np\n",
    "import pandas as pd\n",
    "np.random.seed(42)"
   ]
  },
  {
   "cell_type": "code",
   "execution_count": 71,
   "metadata": {},
   "outputs": [],
   "source": [
    "quac = pd.read_csv(\"/home/willy/comp5214-groundedness-kgd/data/QuAC/quac_processed.csv\")\n",
    "wow = pd.read_csv(\"/home/willy/comp5214-groundedness-kgd/data/wizard_of_wikipedia/wow_processed.csv\")"
   ]
  },
  {
   "cell_type": "code",
   "execution_count": 72,
   "metadata": {},
   "outputs": [
    {
     "data": {
      "text/html": [
       "<div>\n",
       "<style scoped>\n",
       "    .dataframe tbody tr th:only-of-type {\n",
       "        vertical-align: middle;\n",
       "    }\n",
       "\n",
       "    .dataframe tbody tr th {\n",
       "        vertical-align: top;\n",
       "    }\n",
       "\n",
       "    .dataframe thead th {\n",
       "        text-align: right;\n",
       "    }\n",
       "</style>\n",
       "<table border=\"1\" class=\"dataframe\">\n",
       "  <thead>\n",
       "    <tr style=\"text-align: right;\">\n",
       "      <th></th>\n",
       "      <th>dialogue_id</th>\n",
       "      <th>context</th>\n",
       "      <th>ans_questions</th>\n",
       "      <th>ans_answers</th>\n",
       "      <th>ans_start</th>\n",
       "      <th>unans_questions</th>\n",
       "      <th>unans_answers</th>\n",
       "    </tr>\n",
       "  </thead>\n",
       "  <tbody>\n",
       "    <tr>\n",
       "      <th>0</th>\n",
       "      <td>C_999f9d9ff37c4fa4a5d16a2a9777cd01_1</td>\n",
       "      <td>Leadon was born in Minneapolis, one of ten sib...</td>\n",
       "      <td>['Where was Bernie born?', 'Who were his paren...</td>\n",
       "      <td>['Leadon was born in Minneapolis,', 'Dr. Berna...</td>\n",
       "      <td>[0, 56]</td>\n",
       "      <td>Did he sing also?</td>\n",
       "      <td>NaN</td>\n",
       "    </tr>\n",
       "    <tr>\n",
       "      <th>1</th>\n",
       "      <td>C_44bc1642b5534417a63ed34163341f5e_1</td>\n",
       "      <td>Emerson was born in Boston, Massachusetts, on ...</td>\n",
       "      <td>['What year was he born ?', 'Who was his fathe...</td>\n",
       "      <td>['May 25, 1803,', 'John Clarke,']</td>\n",
       "      <td>[46, 391]</td>\n",
       "      <td>Was he the only child of his parent ?</td>\n",
       "      <td>NaN</td>\n",
       "    </tr>\n",
       "    <tr>\n",
       "      <th>2</th>\n",
       "      <td>C_648a4ddf31a44a7c87339dba68db02dc_0</td>\n",
       "      <td>Hackett starred as the title character on NBC-...</td>\n",
       "      <td>['Was Stanley a character he played?', 'What w...</td>\n",
       "      <td>[\"Hackett starred as the title character on NB...</td>\n",
       "      <td>[0, 145]</td>\n",
       "      <td>What was that about?</td>\n",
       "      <td>NaN</td>\n",
       "    </tr>\n",
       "    <tr>\n",
       "      <th>3</th>\n",
       "      <td>C_648a4ddf31a44a7c87339dba68db02dc_1</td>\n",
       "      <td>Hackett's first job after the war was at the P...</td>\n",
       "      <td>['What was his first job?', 'Are there any oth...</td>\n",
       "      <td>[\"Hackett's first job after the war was at the...</td>\n",
       "      <td>[0, 358]</td>\n",
       "      <td>Did he have any flops?</td>\n",
       "      <td>NaN</td>\n",
       "    </tr>\n",
       "    <tr>\n",
       "      <th>4</th>\n",
       "      <td>C_f726b9f556564c25a23df832b054406d_0</td>\n",
       "      <td>Young left the Basie band in late 1940. He is ...</td>\n",
       "      <td>['What is Leaving Basie?', 'Why did he leave?']</td>\n",
       "      <td>['Young left the Basie band in late 1940.', 'H...</td>\n",
       "      <td>[0, 40]</td>\n",
       "      <td>How did he react to his dismissal?</td>\n",
       "      <td>NaN</td>\n",
       "    </tr>\n",
       "    <tr>\n",
       "      <th>...</th>\n",
       "      <td>...</td>\n",
       "      <td>...</td>\n",
       "      <td>...</td>\n",
       "      <td>...</td>\n",
       "      <td>...</td>\n",
       "      <td>...</td>\n",
       "      <td>...</td>\n",
       "    </tr>\n",
       "    <tr>\n",
       "      <th>2780</th>\n",
       "      <td>C_c2be5a1152694f16849703ee5b9de7c8_1</td>\n",
       "      <td>In 1988, Petty joined George Harrison's group,...</td>\n",
       "      <td>['Who were the Traveling Wilburys?', 'What did...</td>\n",
       "      <td>[\"Petty joined George Harrison's group, the Tr...</td>\n",
       "      <td>[9, 274]</td>\n",
       "      <td>How did the album do?</td>\n",
       "      <td>NaN</td>\n",
       "    </tr>\n",
       "    <tr>\n",
       "      <th>2781</th>\n",
       "      <td>C_4564785fdfb54c69a92a7d9a954f2c83_0</td>\n",
       "      <td>The final memo mentioned Zubaydah several time...</td>\n",
       "      <td>['what was the memo about', 'were his interroo...</td>\n",
       "      <td>['It claimed that due to the enhanced interrog...</td>\n",
       "      <td>[49, 49]</td>\n",
       "      <td>how many people were interrigated</td>\n",
       "      <td>NaN</td>\n",
       "    </tr>\n",
       "    <tr>\n",
       "      <th>2782</th>\n",
       "      <td>C_ab06f20af1824f2eaea291a32c1ed602_0</td>\n",
       "      <td>In 1996, Randi established the James Randi Edu...</td>\n",
       "      <td>['When did he start JREF?', 'Why did he start ...</td>\n",
       "      <td>['In 1996,', 'Topics have included the interes...</td>\n",
       "      <td>[0, 123]</td>\n",
       "      <td>Did he travel to promote the foundation?</td>\n",
       "      <td>NaN</td>\n",
       "    </tr>\n",
       "    <tr>\n",
       "      <th>2783</th>\n",
       "      <td>C_6647a5e7220c4cb9833b85748d449e24_0</td>\n",
       "      <td>Andre returned in the winter of 1990, but it w...</td>\n",
       "      <td>['What appearances did he make in 1990?', 'Did...</td>\n",
       "      <td>[\"Instead, Andre made an interview appearance ...</td>\n",
       "      <td>[88, 258]</td>\n",
       "      <td>Did he win any titles?</td>\n",
       "      <td>NaN</td>\n",
       "    </tr>\n",
       "    <tr>\n",
       "      <th>2784</th>\n",
       "      <td>C_7bcb15945e484623b6e1d6f074af3e14_0</td>\n",
       "      <td>On May 25, 2007, Unia was released. The album'...</td>\n",
       "      <td>['Who were the members of the band during this...</td>\n",
       "      <td>['Jani Liimatainen had been asked to leave the...</td>\n",
       "      <td>[180, 129]</td>\n",
       "      <td>Did the band have any hits during this time?</td>\n",
       "      <td>NaN</td>\n",
       "    </tr>\n",
       "  </tbody>\n",
       "</table>\n",
       "<p>2785 rows × 7 columns</p>\n",
       "</div>"
      ],
      "text/plain": [
       "                               dialogue_id  \\\n",
       "0     C_999f9d9ff37c4fa4a5d16a2a9777cd01_1   \n",
       "1     C_44bc1642b5534417a63ed34163341f5e_1   \n",
       "2     C_648a4ddf31a44a7c87339dba68db02dc_0   \n",
       "3     C_648a4ddf31a44a7c87339dba68db02dc_1   \n",
       "4     C_f726b9f556564c25a23df832b054406d_0   \n",
       "...                                    ...   \n",
       "2780  C_c2be5a1152694f16849703ee5b9de7c8_1   \n",
       "2781  C_4564785fdfb54c69a92a7d9a954f2c83_0   \n",
       "2782  C_ab06f20af1824f2eaea291a32c1ed602_0   \n",
       "2783  C_6647a5e7220c4cb9833b85748d449e24_0   \n",
       "2784  C_7bcb15945e484623b6e1d6f074af3e14_0   \n",
       "\n",
       "                                                context  \\\n",
       "0     Leadon was born in Minneapolis, one of ten sib...   \n",
       "1     Emerson was born in Boston, Massachusetts, on ...   \n",
       "2     Hackett starred as the title character on NBC-...   \n",
       "3     Hackett's first job after the war was at the P...   \n",
       "4     Young left the Basie band in late 1940. He is ...   \n",
       "...                                                 ...   \n",
       "2780  In 1988, Petty joined George Harrison's group,...   \n",
       "2781  The final memo mentioned Zubaydah several time...   \n",
       "2782  In 1996, Randi established the James Randi Edu...   \n",
       "2783  Andre returned in the winter of 1990, but it w...   \n",
       "2784  On May 25, 2007, Unia was released. The album'...   \n",
       "\n",
       "                                          ans_questions  \\\n",
       "0     ['Where was Bernie born?', 'Who were his paren...   \n",
       "1     ['What year was he born ?', 'Who was his fathe...   \n",
       "2     ['Was Stanley a character he played?', 'What w...   \n",
       "3     ['What was his first job?', 'Are there any oth...   \n",
       "4       ['What is Leaving Basie?', 'Why did he leave?']   \n",
       "...                                                 ...   \n",
       "2780  ['Who were the Traveling Wilburys?', 'What did...   \n",
       "2781  ['what was the memo about', 'were his interroo...   \n",
       "2782  ['When did he start JREF?', 'Why did he start ...   \n",
       "2783  ['What appearances did he make in 1990?', 'Did...   \n",
       "2784  ['Who were the members of the band during this...   \n",
       "\n",
       "                                            ans_answers   ans_start  \\\n",
       "0     ['Leadon was born in Minneapolis,', 'Dr. Berna...     [0, 56]   \n",
       "1                     ['May 25, 1803,', 'John Clarke,']   [46, 391]   \n",
       "2     [\"Hackett starred as the title character on NB...    [0, 145]   \n",
       "3     [\"Hackett's first job after the war was at the...    [0, 358]   \n",
       "4     ['Young left the Basie band in late 1940.', 'H...     [0, 40]   \n",
       "...                                                 ...         ...   \n",
       "2780  [\"Petty joined George Harrison's group, the Tr...    [9, 274]   \n",
       "2781  ['It claimed that due to the enhanced interrog...    [49, 49]   \n",
       "2782  ['In 1996,', 'Topics have included the interes...    [0, 123]   \n",
       "2783  [\"Instead, Andre made an interview appearance ...   [88, 258]   \n",
       "2784  ['Jani Liimatainen had been asked to leave the...  [180, 129]   \n",
       "\n",
       "                                   unans_questions  unans_answers  \n",
       "0                                Did he sing also?            NaN  \n",
       "1            Was he the only child of his parent ?            NaN  \n",
       "2                             What was that about?            NaN  \n",
       "3                           Did he have any flops?            NaN  \n",
       "4               How did he react to his dismissal?            NaN  \n",
       "...                                            ...            ...  \n",
       "2780                         How did the album do?            NaN  \n",
       "2781             how many people were interrigated            NaN  \n",
       "2782      Did he travel to promote the foundation?            NaN  \n",
       "2783                        Did he win any titles?            NaN  \n",
       "2784  Did the band have any hits during this time?            NaN  \n",
       "\n",
       "[2785 rows x 7 columns]"
      ]
     },
     "execution_count": 72,
     "metadata": {},
     "output_type": "execute_result"
    }
   ],
   "source": [
    "quac"
   ]
  },
  {
   "cell_type": "code",
   "execution_count": null,
   "metadata": {},
   "outputs": [],
   "source": [
    "\n",
    "quac.sample(n=3) #n is the few-shot 325 3229 284"
   ]
  },
  {
   "cell_type": "code",
   "execution_count": 5,
   "metadata": {},
   "outputs": [
    {
     "data": {
      "text/plain": [
       "3533"
      ]
     },
     "execution_count": 5,
     "metadata": {},
     "output_type": "execute_result"
    }
   ],
   "source": [
    "len(quac)"
   ]
  },
  {
   "cell_type": "code",
   "execution_count": 65,
   "metadata": {},
   "outputs": [
    {
     "data": {
      "text/html": [
       "<div>\n",
       "<style scoped>\n",
       "    .dataframe tbody tr th:only-of-type {\n",
       "        vertical-align: middle;\n",
       "    }\n",
       "\n",
       "    .dataframe tbody tr th {\n",
       "        vertical-align: top;\n",
       "    }\n",
       "\n",
       "    .dataframe thead th {\n",
       "        text-align: right;\n",
       "    }\n",
       "</style>\n",
       "<table border=\"1\" class=\"dataframe\">\n",
       "  <thead>\n",
       "    <tr style=\"text-align: right;\">\n",
       "      <th></th>\n",
       "      <th>dialogue_id</th>\n",
       "      <th>context</th>\n",
       "      <th>ans_questions</th>\n",
       "      <th>ans_answers</th>\n",
       "      <th>ans_start</th>\n",
       "      <th>unans_questions</th>\n",
       "      <th>unans_answers</th>\n",
       "    </tr>\n",
       "  </thead>\n",
       "  <tbody>\n",
       "    <tr>\n",
       "      <th>3966</th>\n",
       "      <td>C_b11ce75a834e4ee4941a697c45a66600_0</td>\n",
       "      <td>After graduating with a degree in composition ...</td>\n",
       "      <td>['Did Gryce move the New York?', 'Was he activ...</td>\n",
       "      <td>['After graduating with a degree in compositio...</td>\n",
       "      <td>[0, 143]</td>\n",
       "      <td>Where either of these songs successful?</td>\n",
       "      <td>NaN</td>\n",
       "    </tr>\n",
       "    <tr>\n",
       "      <th>2917</th>\n",
       "      <td>C_3450308a7ce3443fb4ba1614ecc35f00_1</td>\n",
       "      <td>On 17 May 1977 the Likud, headed by Begin, won...</td>\n",
       "      <td>['Who won the 1977 electoral victory?', 'Who w...</td>\n",
       "      <td>['On 17 May 1977 the Likud, headed by Begin, w...</td>\n",
       "      <td>[0, 15]</td>\n",
       "      <td>Who was running?</td>\n",
       "      <td>NaN</td>\n",
       "    </tr>\n",
       "    <tr>\n",
       "      <th>1741</th>\n",
       "      <td>C_467d776fbe03455fa80c2344fdfb40af_1</td>\n",
       "      <td>Although most episodes and matchups do not occ...</td>\n",
       "      <td>['What were the regular segments?', 'Who were ...</td>\n",
       "      <td>['There is a frequent (previously biweekly and...</td>\n",
       "      <td>[125, 266]</td>\n",
       "      <td>Around what year did these take place?</td>\n",
       "      <td>NaN</td>\n",
       "    </tr>\n",
       "  </tbody>\n",
       "</table>\n",
       "</div>"
      ],
      "text/plain": [
       "                               dialogue_id  \\\n",
       "3966  C_b11ce75a834e4ee4941a697c45a66600_0   \n",
       "2917  C_3450308a7ce3443fb4ba1614ecc35f00_1   \n",
       "1741  C_467d776fbe03455fa80c2344fdfb40af_1   \n",
       "\n",
       "                                                context  \\\n",
       "3966  After graduating with a degree in composition ...   \n",
       "2917  On 17 May 1977 the Likud, headed by Begin, won...   \n",
       "1741  Although most episodes and matchups do not occ...   \n",
       "\n",
       "                                          ans_questions  \\\n",
       "3966  ['Did Gryce move the New York?', 'Was he activ...   \n",
       "2917  ['Who won the 1977 electoral victory?', 'Who w...   \n",
       "1741  ['What were the regular segments?', 'Who were ...   \n",
       "\n",
       "                                            ans_answers   ans_start  \\\n",
       "3966  ['After graduating with a degree in compositio...    [0, 143]   \n",
       "2917  ['On 17 May 1977 the Likud, headed by Begin, w...     [0, 15]   \n",
       "1741  ['There is a frequent (previously biweekly and...  [125, 266]   \n",
       "\n",
       "                              unans_questions  unans_answers  \n",
       "3966  Where either of these songs successful?            NaN  \n",
       "2917                         Who was running?            NaN  \n",
       "1741   Around what year did these take place?            NaN  "
      ]
     },
     "execution_count": 65,
     "metadata": {},
     "output_type": "execute_result"
    }
   ],
   "source": [
    "sample = quac.sample(3)\n",
    "index = sample.index\n",
    "sample.head()"
   ]
  },
  {
   "cell_type": "code",
   "execution_count": 21,
   "metadata": {},
   "outputs": [],
   "source": [
    "quac = quac.drop(index)"
   ]
  },
  {
   "cell_type": "code",
   "execution_count": 47,
   "metadata": {},
   "outputs": [],
   "source": [
    "test_sample = quac.iloc[37]"
   ]
  },
  {
   "cell_type": "code",
   "execution_count": 32,
   "metadata": {},
   "outputs": [
    {
     "data": {
      "text/plain": [
       "3532"
      ]
     },
     "execution_count": 32,
     "metadata": {},
     "output_type": "execute_result"
    }
   ],
   "source": [
    "len(quac)"
   ]
  },
  {
   "cell_type": "code",
   "execution_count": 39,
   "metadata": {},
   "outputs": [
    {
     "data": {
      "text/plain": [
       "3519"
      ]
     },
     "execution_count": 39,
     "metadata": {},
     "output_type": "execute_result"
    }
   ],
   "source": [
    "quac.drop(quac.index[[0, 1, 2]], inplace=True)\n",
    "len(quac)"
   ]
  },
  {
   "cell_type": "code",
   "execution_count": 51,
   "metadata": {},
   "outputs": [],
   "source": [
    "qs = test_sample[\"ans_questions\"]"
   ]
  },
  {
   "cell_type": "code",
   "execution_count": 53,
   "metadata": {},
   "outputs": [
    {
     "data": {
      "text/plain": [
       "str"
      ]
     },
     "execution_count": 53,
     "metadata": {},
     "output_type": "execute_result"
    }
   ],
   "source": [
    "type(qs)"
   ]
  },
  {
   "cell_type": "code",
   "execution_count": 57,
   "metadata": {},
   "outputs": [
    {
     "data": {
      "text/plain": [
       "list"
      ]
     },
     "execution_count": 57,
     "metadata": {},
     "output_type": "execute_result"
    }
   ],
   "source": [
    "type(ast.literal_eval(qs))"
   ]
  },
  {
   "cell_type": "code",
   "execution_count": 66,
   "metadata": {},
   "outputs": [
    {
     "data": {
      "text/plain": [
       "\"['What was their legacy?', 'What did people say about them?']\""
      ]
     },
     "execution_count": 66,
     "metadata": {},
     "output_type": "execute_result"
    }
   ],
   "source": [
    "test_sample[\"ans_questions\"]"
   ]
  },
  {
   "cell_type": "code",
   "execution_count": null,
   "metadata": {},
   "outputs": [],
   "source": [
    "count = 0\n",
    "for global_index, wow_row in wow.iterrows():\n",
    "    print(wow_row[\"knowledge\"])\n",
    "    if count == 2:\n",
    "        break"
   ]
  },
  {
   "cell_type": "code",
   "execution_count": 78,
   "metadata": {},
   "outputs": [
    {
     "data": {
      "text/plain": [
       "index                                                              0\n",
       "topic                                                  Elvis Presley\n",
       "dialogue           [' Wizard: Oh baby.... Elvis Presley is truly ...\n",
       "knowledge          ['Elvis Aaron Presley (January 8, 1935\\xa0– Au...\n",
       "speakers           ['Wizard', 'Apprentice', 'Wizard', 'Apprentice...\n",
       "number_of_turns                                                    9\n",
       "word_count                                                       138\n",
       "Name: 0, dtype: object"
      ]
     },
     "execution_count": 78,
     "metadata": {},
     "output_type": "execute_result"
    }
   ],
   "source": [
    "sample = wow.iloc[0]\n",
    "sample"
   ]
  },
  {
   "cell_type": "code",
   "execution_count": 80,
   "metadata": {},
   "outputs": [],
   "source": [
    "dialogue = ast.literal_eval(sample[\"dialogue\"])"
   ]
  },
  {
   "cell_type": "code",
   "execution_count": 82,
   "metadata": {},
   "outputs": [
    {
     "data": {
      "text/plain": [
       "[' Wizard: Oh baby.... Elvis Presley is truly The King of Rock and Roll!',\n",
       " \" Apprentice: yes...who doesn't love Elvis Presley and his music?\"]"
      ]
     },
     "execution_count": 82,
     "metadata": {},
     "output_type": "execute_result"
    }
   ],
   "source": [
    "dialogue[:2]"
   ]
  },
  {
   "cell_type": "code",
   "execution_count": 83,
   "metadata": {},
   "outputs": [],
   "source": [
    "indexes = [1, 2]"
   ]
  },
  {
   "cell_type": "code",
   "execution_count": 90,
   "metadata": {},
   "outputs": [
    {
     "name": "stdout",
     "output_type": "stream",
     "text": [
      "<class 'pandas.core.frame.DataFrame'>\n"
     ]
    }
   ],
   "source": [
    "quac = pd.read_csv(\"/home/willy/comp5214-groundedness-kgd/data/QuAC/quac_processed.csv\")\n",
    "print(type(quac))\n",
    "quac = quac.drop(quac.index[indexes], inplace=True)"
   ]
  },
  {
   "cell_type": "code",
   "execution_count": 88,
   "metadata": {},
   "outputs": [
    {
     "data": {
      "text/plain": [
       "NoneType"
      ]
     },
     "execution_count": 88,
     "metadata": {},
     "output_type": "execute_result"
    }
   ],
   "source": [
    "type(quac)"
   ]
  },
  {
   "cell_type": "code",
   "execution_count": 86,
   "metadata": {},
   "outputs": [],
   "source": [
    "quac"
   ]
  },
  {
   "cell_type": "code",
   "execution_count": 93,
   "metadata": {},
   "outputs": [
    {
     "data": {
      "text/plain": [
       "4"
      ]
     },
     "execution_count": 93,
     "metadata": {},
     "output_type": "execute_result"
    }
   ],
   "source": [
    "min(wow[\"number_of_turns\"])"
   ]
  },
  {
   "cell_type": "code",
   "execution_count": 119,
   "metadata": {},
   "outputs": [],
   "source": [
    "prompts = pd.read_csv(\"/home/willy/comp5214-groundedness-kgd/data/processed_prompt/prompts_1_shot.csv\")"
   ]
  },
  {
   "cell_type": "code",
   "execution_count": 120,
   "metadata": {},
   "outputs": [],
   "source": [
    "prompt = prompts.iloc[0][\"prompt\"]"
   ]
  },
  {
   "cell_type": "code",
   "execution_count": 121,
   "metadata": {},
   "outputs": [
    {
     "data": {
      "text/plain": [
       "\"Context: Fibber McGee and Molly originated when the small-time husband-and-wife vaudevillians began their third year as Chicago-area radio performers. Two of the shows they did for station WENR beginning in 1927, both written by Harry Lawrence, bore trac Question: Who were the sponsors? Answer: None. Question: Were the Jordans in vaudeville before radio? Answer: Fibber McGee and Molly originated when the small-time husband-and-wife vaudevillians began their third year as Chicago-area radio performers. Question: What kind of vaudeville act did they have? Answer: Two of the shows they did for station WENR beginning in 1927, both written by Harry Lawrence, Given the knowledge and the conversation, write the next turn of the conversation. Knowledge: Accompanied by guitarist Scotty Moore and bassist Bill Black, Presley was a pioneer of rockabilly, an uptempo, backbeat-driven fusion of country music and rhythm and blues. Conversation:  Wizard: Oh baby.... Elvis Presley is truly The King of Rock and Roll!  Apprentice: yes...who doesn't love Elvis Presley and his music?  Wizard: Seriously. I have been planning a vaction to Graceland myself. I have family in Tennessee so it could be good.  Apprentice: I would love to tour his home.  Which one of his songs is your favorite?/\""
      ]
     },
     "execution_count": 121,
     "metadata": {},
     "output_type": "execute_result"
    }
   ],
   "source": [
    "prompt"
   ]
  },
  {
   "cell_type": "code",
   "execution_count": null,
   "metadata": {},
   "outputs": [],
   "source": []
  }
 ],
 "metadata": {
  "interpreter": {
   "hash": "321b428eb2f22c8dd426e302012007662aaddde80543b37e06bd4b8428c821cf"
  },
  "kernelspec": {
   "display_name": "Python 3.8.13 ('KGD')",
   "language": "python",
   "name": "python3"
  },
  "language_info": {
   "codemirror_mode": {
    "name": "ipython",
    "version": 3
   },
   "file_extension": ".py",
   "mimetype": "text/x-python",
   "name": "python",
   "nbconvert_exporter": "python",
   "pygments_lexer": "ipython3",
   "version": "3.8.13"
  },
  "orig_nbformat": 4
 },
 "nbformat": 4,
 "nbformat_minor": 2
}
