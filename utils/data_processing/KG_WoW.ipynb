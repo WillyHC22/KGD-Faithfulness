{
 "cells": [
  {
   "cell_type": "code",
   "execution_count": 1,
   "metadata": {},
   "outputs": [],
   "source": [
    "import re\n",
    "import torch\n",
    "import json\n",
    "from tqdm import tqdm\n",
    "from transformers import AutoTokenizer, AutoModelForSeq2SeqLM\n",
    "from datasets import load_dataset"
   ]
  },
  {
   "cell_type": "code",
   "execution_count": 64,
   "metadata": {},
   "outputs": [],
   "source": [
    "tokenizer = AutoTokenizer.from_pretrained(\"bigscience/T0_3B\")\n",
    "model = AutoModelForSeq2SeqLM.from_pretrained(\"bigscience/T0_3B\")"
   ]
  },
  {
   "cell_type": "code",
   "execution_count": 3,
   "metadata": {},
   "outputs": [],
   "source": [
    "wow_path =\"/home/willy/comp5214-groundedness-kgd/data/wizard_of_wikipedia/test_topic_split.json\"\n",
    "with open(wow_path, \"r\") as f:\n",
    "    wow = json.loads(f.read())"
   ]
  },
  {
   "cell_type": "code",
   "execution_count": 11,
   "metadata": {},
   "outputs": [
    {
     "name": "stdout",
     "output_type": "stream",
     "text": [
      "968 <class 'list'>\n",
      "dict_keys(['chosen_topic', 'persona', 'wizard_eval', 'dialog', 'chosen_topic_passage'])\n"
     ]
    }
   ],
   "source": [
    "data = wow[0]\n",
    "print(len(wow), type(wow))\n",
    "print(data.keys())"
   ]
  },
  {
   "cell_type": "code",
   "execution_count": 77,
   "metadata": {},
   "outputs": [],
   "source": [
    "def get_dialog_prompt(sample_number, print_dialog=True):\n",
    "    \"sample_number 0-967\"\n",
    "    word_count = 0\n",
    "    prompt = \"\"\n",
    "    dialog = wow[sample_number][\"dialog\"]\n",
    "    first_speaker = dialog[0][\"speaker\"]\n",
    "    print(f\"First speaker is: {first_speaker}\")\n",
    "    \n",
    "    for i in range(len(dialog)):\n",
    "        dialog_turn = dialog[i][\"text\"]\n",
    "        speaker = dialog[i][\"speaker\"][2:]\n",
    "        if print_dialog:\n",
    "            print(dialog_turn)\n",
    "        word_count += len(dialog_turn.split())\n",
    "        prompt += f\" {speaker}: \"\n",
    "        prompt += dialog_turn\n",
    "    print(f\"There is {word_count} words\")\n",
    "    return dialog, prompt"
   ]
  },
  {
   "cell_type": "code",
   "execution_count": 151,
   "metadata": {},
   "outputs": [],
   "source": [
    "dialog = data[\"dialog\"]\n",
    "passage = data[\"chosen_topic_passage\"]"
   ]
  },
  {
   "cell_type": "code",
   "execution_count": 154,
   "metadata": {},
   "outputs": [
    {
     "data": {
      "text/plain": [
       "['Elvis Aaron Presley (January 8, 1935\\xa0– August 16, 1977) was an American singer, musician, and actor.',\n",
       " 'Regarded as one of the most significant cultural icons of the 20th century, he is often referred to as the \"King of Rock and Roll\" or simply \"the King\".',\n",
       " 'Presley was born in Tupelo, Mississippi, and relocated to Memphis, Tennessee, with his family when he was 13 years old.',\n",
       " 'His music career began there in 1954, recording at Sun Records with producer Sam Phillips, who wanted to bring the sound of African American music to a wider audience.',\n",
       " 'Accompanied by guitarist Scotty Moore and bassist Bill Black, Presley was a pioneer of rockabilly, an uptempo, backbeat-driven fusion of country music and rhythm and blues.',\n",
       " 'In 1955, drummer D.J.',\n",
       " \"Fontana joined to complete the lineup of Presley's classic quartet and RCA Victor acquired his contract in a deal arranged by Colonel Tom Parker, who would manage the singer for more than two decades.\",\n",
       " 'Presley\\'s first RCA single, \"Heartbreak Hotel\", was released in January 1956 and became a number one hit in the United States.',\n",
       " 'With a series of successful network television appearances and chart-topping records, he became the leading figure of the newly popular sound of rock and roll.']"
      ]
     },
     "execution_count": 154,
     "metadata": {},
     "output_type": "execute_result"
    }
   ],
   "source": [
    "passage"
   ]
  },
  {
   "cell_type": "code",
   "execution_count": 70,
   "metadata": {},
   "outputs": [
    {
     "name": "stdout",
     "output_type": "stream",
     "text": [
      "First speaker is: 0_Wizard\n",
      "Oh baby.... Elvis Presley is truly The King of Rock and Roll!\n",
      "yes...who doesn't love Elvis Presley and his music?\n",
      "Seriously. I have been planning a vaction to Graceland myself. I have family in Tennessee so it could be good.\n",
      "I would love to tour his home.  Which one of his songs is your favorite?/\n",
      "I always liked \"Hounddog.\" My grandpa heard Elvis sing it live in Memphis.\n",
      "oh wow thats a classic.  what about jailhouse rock\n",
      "Pretty good. Didn't Elvis make Jailhouse rock into a movie?\n",
      "Yes, I think he did.  He made several movies.  \n",
      "Was Elvis actually in jail? The movie depicts him dicovering his musical abilities in a cell.\n",
      "Hmm...that I don't know.  I am going to have to look that up later and see\n",
      "There is 128 words\n"
     ]
    }
   ],
   "source": [
    "dialog, prompt = get_dialog_prompt(0)"
   ]
  },
  {
   "cell_type": "code",
   "execution_count": 34,
   "metadata": {},
   "outputs": [
    {
     "data": {
      "text/plain": [
       "dict_keys(['speaker', 'text', 'checked_sentence', 'checked_passage', 'candidate_responses', 'retrieved_passages', 'retrieved_topics'])"
      ]
     },
     "execution_count": 34,
     "metadata": {},
     "output_type": "execute_result"
    }
   ],
   "source": [
    "dialog[0].keys()"
   ]
  },
  {
   "cell_type": "code",
   "execution_count": 79,
   "metadata": {},
   "outputs": [
    {
     "name": "stdout",
     "output_type": "stream",
     "text": [
      "First speaker is: 0_Wizard\n",
      "There is 128 words\n"
     ]
    }
   ],
   "source": [
    "dialog, prompt = get_dialog_prompt(0, print_dialog=False)"
   ]
  },
  {
   "cell_type": "code",
   "execution_count": 94,
   "metadata": {},
   "outputs": [
    {
     "data": {
      "text/plain": [
       "' Wizard: Oh baby.... Elvis Presley is truly The King of Rock and Roll! Apprentice: yes...who doesn\\'t love Elvis Presley and his music? Wizard: Seriously. I have been planning a vaction to Graceland myself. I have family in Tennessee so it could be good. Apprentice: I would love to tour his home.  Which one of his songs is your favorite?/ Wizard: I always liked \"Hounddog.\" My grandpa heard Elvis sing it live in Memphis. Apprentice: oh wow thats a classic.  what about jailhouse rock Wizard: Pretty good. Didn\\'t Elvis make Jailhouse rock into a movie? Apprentice: Yes, I think he did.  He made several movies.   Wizard: Was Elvis actually in jail? The movie depicts him dicovering his musical abilities in a cell. Apprentice: Hmm...that I don\\'t know.  I am going to have to look that up later and see'"
      ]
     },
     "execution_count": 94,
     "metadata": {},
     "output_type": "execute_result"
    }
   ],
   "source": [
    "prompt"
   ]
  },
  {
   "cell_type": "code",
   "execution_count": 142,
   "metadata": {},
   "outputs": [
    {
     "name": "stdout",
     "output_type": "stream",
     "text": [
      " Wizard: Oh baby.... Elvis Presley is truly The King of Rock and Roll! Apprentice: yes...who doesn't love Elvis Presley and his music? Wizard: Seriously. I have been planning a vaction to Graceland myself. I have family in Tennessee so it could be good. Apprentice: I would love to tour his home.  Which one of his songs is your favorite?\n",
      "/ Wizard: I always liked \"Hounddog.\" My grandpa heard Elvis sing it live in Memphis.\n"
     ]
    }
   ],
   "source": [
    "print(prompt[:338])\n",
    "print(prompt[338:422])"
   ]
  },
  {
   "cell_type": "code",
   "execution_count": 131,
   "metadata": {},
   "outputs": [],
   "source": [
    "knowledge = list(dialog[4][\"checked_sentence\"].values())[0]"
   ]
  },
  {
   "cell_type": "code",
   "execution_count": 109,
   "metadata": {},
   "outputs": [
    {
     "name": "stdout",
     "output_type": "stream",
     "text": [
      "<pad> Apprentice: I love Elvis Presley. I would love to go to Graceland.</s>\n",
      "<pad> Apprentice: I love Elvis Presley. I have been planning a trip to Graceland\n",
      "<pad> Apprentice: Yes, I think he made several movies.</s>\n"
     ]
    }
   ],
   "source": [
    "inputs = tokenizer.encode(f\"Given the conversation: {prompt[:-87]}, what is the apprentice saying next?\", return_tensors=\"pt\")\n",
    "outputs = model.generate(inputs)\n",
    "print(tokenizer.decode(outputs[0]))\n",
    "inputs = tokenizer.encode(f\"Write a the next turn of the conversation. Conversation: {prompt[:-87]}\", return_tensors=\"pt\")\n",
    "outputs = model.generate(inputs)\n",
    "print(tokenizer.decode(outputs[0]))\n",
    "inputs = tokenizer.encode(f\"Given the Conversation, what is the Apprentice's answer? Conversation: {prompt[:-87]}\", return_tensors=\"pt\")\n",
    "outputs = model.generate(inputs)\n",
    "print(tokenizer.decode(outputs[0]))"
   ]
  },
  {
   "cell_type": "code",
   "execution_count": 144,
   "metadata": {},
   "outputs": [
    {
     "name": "stdout",
     "output_type": "stream",
     "text": [
      "<pad> Elvis Presley is truly The King of Rock and Roll. Wizard has been planning a vacation\n",
      "<pad> Elvis Presley is truly The King of Rock and Roll. Wizard has been planning a vacation\n",
      "<pad> Elvis Presley</s>\n"
     ]
    }
   ],
   "source": [
    "inputs = tokenizer.encode(f\"Given the conversation: {prompt[:338]}, what is the apprentice saying next?\", return_tensors=\"pt\")\n",
    "outputs = model.generate(inputs)\n",
    "print(tokenizer.decode(outputs[0]))\n",
    "inputs = tokenizer.encode(f\"Write a the next turn of the conversation. Conversation: {prompt[:338]}\", return_tensors=\"pt\")\n",
    "outputs = model.generate(inputs)\n",
    "print(tokenizer.decode(outputs[0]))\n",
    "inputs = tokenizer.encode(f\"Given the Conversation, what is the Apprentice's answer? Conversation: {prompt[:338]}\", return_tensors=\"pt\")\n",
    "outputs = model.generate(inputs)\n",
    "print(tokenizer.decode(outputs[0]))"
   ]
  },
  {
   "cell_type": "code",
   "execution_count": 145,
   "metadata": {},
   "outputs": [
    {
     "name": "stdout",
     "output_type": "stream",
     "text": [
      "<pad> Elvis Presley is truly The King of Rock and Roll. Wizard has been planning a vacation\n",
      "<pad> Elvis Presley is truly The King of Rock and Roll. Wizard has been planning a vacation\n",
      "<pad> Elvis Presley is truly The King of Rock and Roll. Wizard has been planning a vacation\n"
     ]
    }
   ],
   "source": [
    "inputs = tokenizer.encode(f\"Given the conversation: {prompt[:338]}, what is the wizard saying next?\", return_tensors=\"pt\")\n",
    "outputs = model.generate(inputs)\n",
    "print(tokenizer.decode(outputs[0]))\n",
    "inputs = tokenizer.encode(f\"write a the next turn of the conversation. Conversation: {prompt[:338]}\", return_tensors=\"pt\")\n",
    "outputs = model.generate(inputs)\n",
    "print(tokenizer.decode(outputs[0]))\n",
    "inputs = tokenizer.encode(f\"Given the Conversation, what is the wizard's answer? Conversation: {prompt[:338]}\", return_tensors=\"pt\")\n",
    "outputs = model.generate(inputs)\n",
    "print(tokenizer.decode(outputs[0]))"
   ]
  },
  {
   "cell_type": "code",
   "execution_count": 146,
   "metadata": {},
   "outputs": [
    {
     "name": "stdout",
     "output_type": "stream",
     "text": [
      "<pad> Elvis Presley is truly The King of Rock and Roll. Wizard has been planning a vacation\n",
      "<pad> Elvis Presley was born in Tupelo, Mississippi, and relocated to Memphis, Tennessee\n",
      "<pad> Elvis Presley</s>\n"
     ]
    }
   ],
   "source": [
    "inputs = tokenizer.encode(f\"Given the conversation: {prompt[:338]} and the knowledge {knowledge}, what is the wizard saying next?\", return_tensors=\"pt\")\n",
    "outputs = model.generate(inputs)\n",
    "print(tokenizer.decode(outputs[0]))\n",
    "inputs = tokenizer.encode(f\"Given the Knowledge, write a the next turn of the conversation. Conversation: {prompt[:338]}. Knowledge: {knowledge}\", return_tensors=\"pt\")\n",
    "outputs = model.generate(inputs)\n",
    "print(tokenizer.decode(outputs[0]))\n",
    "inputs = tokenizer.encode(f\"Given the Conversation and the Knowledge, what is the wizard's answer? Knowledge: {knowledge}. Conversation: {prompt[:338]}\", return_tensors=\"pt\")\n",
    "outputs = model.generate(inputs)\n",
    "print(tokenizer.decode(outputs[0]))"
   ]
  },
  {
   "cell_type": "code",
   "execution_count": 150,
   "metadata": {},
   "outputs": [
    {
     "name": "stdout",
     "output_type": "stream",
     "text": [
      "<pad> Elvis Presley is truly The King of Rock and Roll. Wizard has been planning a vacation\n",
      "<pad> Elvis Presley was born in Tupelo, Mississippi, and relocated to Memphis, Tennessee\n",
      "<pad> Elvis Presley was born in Tupelo, Mississippi, and relocated to Memphis, Tennessee\n",
      "<pad> Elvis Presley</s>\n"
     ]
    }
   ],
   "source": [
    "inputs = tokenizer.encode(f\"Given the conversation: {prompt[:338]} and the knowledge {knowledge}, what is the wizard saying next?\", return_tensors=\"pt\")\n",
    "outputs = model.generate(inputs)\n",
    "print(tokenizer.decode(outputs[0]))\n",
    "inputs = tokenizer.encode(f\"Given the Knowledge, write the next turn of the conversation. Conversation: {prompt[:338]}. Knowledge: {knowledge}\", return_tensors=\"pt\")\n",
    "outputs = model.generate(inputs)\n",
    "print(tokenizer.decode(outputs[0]))\n",
    "inputs = tokenizer.encode(f\"Given the Conversation and the Knowledge, what is the wizard's answer? Knowledge: {knowledge}. Conversation: {prompt[:-338]}\", return_tensors=\"pt\")\n",
    "outputs = model.generate(inputs)\n",
    "print(tokenizer.decode(outputs[0]))\n",
    "inputs = tokenizer.encode(f\"\"\"Context: \"{knowledge}\". Conversation: \"{prompt[:338]}\" Given the Conversation and the Knowledge, what is the wizard's answer?\"\"\", return_tensors=\"pt\")\n",
    "outputs = model.generate(inputs)\n",
    "print(tokenizer.decode(outputs[0]))"
   ]
  },
  {
   "cell_type": "code",
   "execution_count": 148,
   "metadata": {},
   "outputs": [
    {
     "name": "stdout",
     "output_type": "stream",
     "text": [
      "<pad> Elvis Presley is truly The King of Rock and Roll! Wizard has been planning a vacation\n"
     ]
    }
   ],
   "source": [
    "inputs = tokenizer.encode(f\"\"\"Write wizard's answer. Conversation: \"{prompt[:338]}. Wizard:\" \"\"\", return_tensors=\"pt\")\n",
    "outputs = model.generate(inputs)\n",
    "print(tokenizer.decode(outputs[0]))"
   ]
  },
  {
   "cell_type": "code",
   "execution_count": 141,
   "metadata": {},
   "outputs": [
    {
     "data": {
      "text/plain": [
       "' Wizard: Oh baby.... Elvis Presley is truly The King of Rock and Roll! Apprentice: yes...who doesn\\'t love Elvis Presley and his music? Wizard: Seriously. I have been planning a vaction to Graceland myself. I have family in Tennessee so it could be good. Apprentice: I would love to tour his home.  Which one of his songs is your favorite?/ Wizard: I always liked \"Hounddog.\" My grandpa heard Elvis sing it live in Memphis. Apprentice: oh wow thats a classic.  what'"
      ]
     },
     "execution_count": 141,
     "metadata": {},
     "output_type": "execute_result"
    }
   ],
   "source": [
    "prompt[:-338]"
   ]
  },
  {
   "cell_type": "code",
   "execution_count": null,
   "metadata": {},
   "outputs": [],
   "source": []
  }
 ],
 "metadata": {
  "interpreter": {
   "hash": "321b428eb2f22c8dd426e302012007662aaddde80543b37e06bd4b8428c821cf"
  },
  "kernelspec": {
   "display_name": "Python 3.8.13 ('KGD')",
   "language": "python",
   "name": "python3"
  },
  "language_info": {
   "codemirror_mode": {
    "name": "ipython",
    "version": 3
   },
   "file_extension": ".py",
   "mimetype": "text/x-python",
   "name": "python",
   "nbconvert_exporter": "python",
   "pygments_lexer": "ipython3",
   "version": "3.8.13"
  },
  "orig_nbformat": 4
 },
 "nbformat": 4,
 "nbformat_minor": 2
}
