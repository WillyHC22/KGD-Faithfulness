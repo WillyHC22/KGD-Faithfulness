{
 "cells": [
  {
   "cell_type": "code",
   "execution_count": 2,
   "metadata": {},
   "outputs": [],
   "source": [
    "import csv\n",
    "import ast\n",
    "import numpy as np\n",
    "import pandas as pd\n",
    "np.random.seed(42)"
   ]
  },
  {
   "cell_type": "code",
   "execution_count": 3,
   "metadata": {},
   "outputs": [],
   "source": [
    "quac = pd.read_csv(\"/home/willy/comp5214-groundedness-kgd/data/QuAC/quac_processed.csv\")\n",
    "wow = pd.read_csv(\"/home/willy/comp5214-groundedness-kgd/data/wizard_of_wikipedia/wow_processed.csv\")\n",
    "generated = pd.read_csv(\"/home/willy/comp5214-groundedness-kgd/data/generated_data/output_1_shot.csv\")"
   ]
  },
  {
   "cell_type": "code",
   "execution_count": null,
   "metadata": {},
   "outputs": [],
   "source": [
    "for i in range(10):\n",
    "    output = generated.iloc[i][\"output\"]\n",
    "    print(output)\n",
    "    if output[-4:] == \"</s>\":\n",
    "        print(output[6:-4])\n",
    "    else:\n",
    "        print(output[6:])\n",
    "    print(\"---------------\")"
   ]
  },
  {
   "cell_type": "code",
   "execution_count": 15,
   "metadata": {},
   "outputs": [
    {
     "name": "stdout",
     "output_type": "stream",
     "text": [
      "index\n",
      "prompt\n",
      "----------\n",
      "topic\n",
      "output\n",
      "----------\n"
     ]
    }
   ],
   "source": [
    "for data_wow, data_prompt in zip(wow, generated):\n",
    "    print(data_wow)\n",
    "    print(data_prompt)\n",
    "    print(\"----------\")"
   ]
  },
  {
   "cell_type": "code",
   "execution_count": 18,
   "metadata": {},
   "outputs": [],
   "source": [
    "new = pd.read_csv(\"/home/willy/comp5214-groundedness-kgd/data/processed_prompt/prompts_2_shot_new.csv\")\n"
   ]
  },
  {
   "cell_type": "code",
   "execution_count": 19,
   "metadata": {},
   "outputs": [
    {
     "data": {
      "text/plain": [
       "index                                                        0\n",
       "topic                                            Elvis Presley\n",
       "prompt       Context: Fibber McGee and Molly originated whe...\n",
       "knowledge    Jailhouse Rock is a 1957 American musical dram...\n",
       "round_nb                                                     4\n",
       "gold          Wizard: I always liked \"Hounddog.\" My grandpa...\n",
       "message       Apprentice: I would love to tour his home.  W...\n",
       "Name: 0, dtype: object"
      ]
     },
     "execution_count": 19,
     "metadata": {},
     "output_type": "execute_result"
    }
   ],
   "source": [
    "new.iloc[0]"
   ]
  },
  {
   "cell_type": "code",
   "execution_count": 23,
   "metadata": {},
   "outputs": [
    {
     "data": {
      "text/plain": [
       "'I would love to tour his home.  Which one of his songs is your favorite?/'"
      ]
     },
     "execution_count": 23,
     "metadata": {},
     "output_type": "execute_result"
    }
   ],
   "source": [
    "new.iloc[0][\"message\"][13:]"
   ]
  },
  {
   "cell_type": "code",
   "execution_count": 24,
   "metadata": {},
   "outputs": [
    {
     "data": {
      "text/plain": [
       "'I always liked \"Hounddog.\" My grandpa heard Elvis sing it live in Memphis.'"
      ]
     },
     "execution_count": 24,
     "metadata": {},
     "output_type": "execute_result"
    }
   ],
   "source": [
    "new.iloc[0][\"gold\"][9:]"
   ]
  },
  {
   "cell_type": "code",
   "execution_count": 27,
   "metadata": {},
   "outputs": [
    {
     "data": {
      "text/plain": [
       "'Jailhouse Rock is a 1957 American musical drama film directed by Richard Thorpe and starring Elvis Presley, Judy Tyler, and Mickey Shaughnessy.'"
      ]
     },
     "execution_count": 27,
     "metadata": {},
     "output_type": "execute_result"
    }
   ],
   "source": [
    "new.iloc[0][\"knowledge\"]"
   ]
  },
  {
   "cell_type": "code",
   "execution_count": null,
   "metadata": {},
   "outputs": [],
   "source": []
  }
 ],
 "metadata": {
  "interpreter": {
   "hash": "321b428eb2f22c8dd426e302012007662aaddde80543b37e06bd4b8428c821cf"
  },
  "kernelspec": {
   "display_name": "Python 3.8.13 ('KGD')",
   "language": "python",
   "name": "python3"
  },
  "language_info": {
   "codemirror_mode": {
    "name": "ipython",
    "version": 3
   },
   "file_extension": ".py",
   "mimetype": "text/x-python",
   "name": "python",
   "nbconvert_exporter": "python",
   "pygments_lexer": "ipython3",
   "version": "3.8.5"
  },
  "orig_nbformat": 4
 },
 "nbformat": 4,
 "nbformat_minor": 2
}
