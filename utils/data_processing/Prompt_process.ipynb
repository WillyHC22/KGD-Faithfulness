{
 "cells": [
  {
   "cell_type": "code",
   "execution_count": 1,
   "metadata": {},
   "outputs": [],
   "source": [
    "import csv\n",
    "import ast\n",
    "import numpy as np\n",
    "import pandas as pd\n",
    "np.random.seed(42)"
   ]
  },
  {
   "cell_type": "code",
   "execution_count": 12,
   "metadata": {},
   "outputs": [],
   "source": [
    "quac = pd.read_csv(\"/home/willy/comp5214-groundedness-kgd/data/QuAC/quac_processed.csv\")\n",
    "wow = pd.read_csv(\"/home/willy/comp5214-groundedness-kgd/data/wizard_of_wikipedia/wow_processed.csv\")\n",
    "generated = pd.read_csv(\"/home/willy/comp5214-groundedness-kgd/data/generated_data/output_1_shot.csv\")"
   ]
  },
  {
   "cell_type": "code",
   "execution_count": null,
   "metadata": {},
   "outputs": [],
   "source": [
    "for i in range(10):\n",
    "    output = generated.iloc[i][\"output\"]\n",
    "    print(output)\n",
    "    if output[-4:] == \"</s>\":\n",
    "        print(output[6:-4])\n",
    "    else:\n",
    "        print(output[6:])\n",
    "    print(\"---------------\")"
   ]
  },
  {
   "cell_type": "code",
   "execution_count": 15,
   "metadata": {},
   "outputs": [
    {
     "name": "stdout",
     "output_type": "stream",
     "text": [
      "index\n",
      "prompt\n",
      "----------\n",
      "topic\n",
      "output\n",
      "----------\n"
     ]
    }
   ],
   "source": [
    "for data_wow, data_prompt in zip(wow, generated):\n",
    "    print(data_wow)\n",
    "    print(data_prompt)\n",
    "    print(\"----------\")"
   ]
  },
  {
   "cell_type": "code",
   "execution_count": 18,
   "metadata": {},
   "outputs": [],
   "source": [
    "new = pd.read_csv(\"/home/willy/comp5214-groundedness-kgd/data/processed_prompt/prompts_2_shot_new.csv\")\n"
   ]
  },
  {
   "cell_type": "code",
   "execution_count": 19,
   "metadata": {},
   "outputs": [
    {
     "data": {
      "text/plain": [
       "index                                                        0\n",
       "topic                                            Elvis Presley\n",
       "prompt       Context: Fibber McGee and Molly originated whe...\n",
       "knowledge    Jailhouse Rock is a 1957 American musical dram...\n",
       "round_nb                                                     4\n",
       "gold          Wizard: I always liked \"Hounddog.\" My grandpa...\n",
       "message       Apprentice: I would love to tour his home.  W...\n",
       "Name: 0, dtype: object"
      ]
     },
     "execution_count": 19,
     "metadata": {},
     "output_type": "execute_result"
    }
   ],
   "source": [
    "new.iloc[0]"
   ]
  },
  {
   "cell_type": "code",
   "execution_count": 23,
   "metadata": {},
   "outputs": [
    {
     "data": {
      "text/plain": [
       "'I would love to tour his home.  Which one of his songs is your favorite?/'"
      ]
     },
     "execution_count": 23,
     "metadata": {},
     "output_type": "execute_result"
    }
   ],
   "source": [
    "new.iloc[0][\"message\"][13:]"
   ]
  },
  {
   "cell_type": "code",
   "execution_count": 24,
   "metadata": {},
   "outputs": [
    {
     "data": {
      "text/plain": [
       "'I always liked \"Hounddog.\" My grandpa heard Elvis sing it live in Memphis.'"
      ]
     },
     "execution_count": 24,
     "metadata": {},
     "output_type": "execute_result"
    }
   ],
   "source": [
    "new.iloc[0][\"gold\"][9:]"
   ]
  },
  {
   "cell_type": "code",
   "execution_count": 27,
   "metadata": {},
   "outputs": [
    {
     "data": {
      "text/plain": [
       "'Jailhouse Rock is a 1957 American musical drama film directed by Richard Thorpe and starring Elvis Presley, Judy Tyler, and Mickey Shaughnessy.'"
      ]
     },
     "execution_count": 27,
     "metadata": {},
     "output_type": "execute_result"
    }
   ],
   "source": [
    "new.iloc[0][\"knowledge\"]"
   ]
  },
  {
   "cell_type": "code",
   "execution_count": 34,
   "metadata": {},
   "outputs": [],
   "source": [
    "Q2_0 = pd.read_csv(\"/home/willy/comp5214-groundedness-kgd/data/Q2_run/Q2_0_shot.csv\")"
   ]
  },
  {
   "cell_type": "code",
   "execution_count": 37,
   "metadata": {},
   "outputs": [
    {
     "data": {
      "text/html": [
       "<div>\n",
       "<style scoped>\n",
       "    .dataframe tbody tr th:only-of-type {\n",
       "        vertical-align: middle;\n",
       "    }\n",
       "\n",
       "    .dataframe tbody tr th {\n",
       "        vertical-align: top;\n",
       "    }\n",
       "\n",
       "    .dataframe thead th {\n",
       "        text-align: right;\n",
       "    }\n",
       "</style>\n",
       "<table border=\"1\" class=\"dataframe\">\n",
       "  <thead>\n",
       "    <tr style=\"text-align: right;\">\n",
       "      <th></th>\n",
       "      <th>episode_idx</th>\n",
       "      <th>topic</th>\n",
       "      <th>round</th>\n",
       "      <th>message</th>\n",
       "      <th>response</th>\n",
       "      <th>knowledge</th>\n",
       "      <th>gold</th>\n",
       "    </tr>\n",
       "  </thead>\n",
       "  <tbody>\n",
       "    <tr>\n",
       "      <th>0</th>\n",
       "      <td>0</td>\n",
       "      <td>Elvis Presley</td>\n",
       "      <td>4</td>\n",
       "      <td>I would love to tour his home.  Which one of h...</td>\n",
       "      <td>Elvis Presley</td>\n",
       "      <td>Jailhouse Rock is a 1957 American musical dram...</td>\n",
       "      <td>I always liked \"Hounddog.\" My grandpa heard El...</td>\n",
       "    </tr>\n",
       "    <tr>\n",
       "      <th>1</th>\n",
       "      <td>1</td>\n",
       "      <td>Ireland</td>\n",
       "      <td>3</td>\n",
       "      <td>Exactly, do you know any thing about Island no...</td>\n",
       "      <td>Wizard: Yes, I know about Ireland.</td>\n",
       "      <td>The island has lush vegetation, a product of i...</td>\n",
       "      <td>There are lots of low-lying mountains in Irela...</td>\n",
       "    </tr>\n",
       "    <tr>\n",
       "      <th>2</th>\n",
       "      <td>2</td>\n",
       "      <td>Archery</td>\n",
       "      <td>3</td>\n",
       "      <td>And a great sport it is. Do you know where arc...</td>\n",
       "      <td>The Upper Paleolithic</td>\n",
       "      <td>Based on indirect evidence, the bow seems to h...</td>\n",
       "      <td>It's a very old one, practiced for at least 10...</td>\n",
       "    </tr>\n",
       "  </tbody>\n",
       "</table>\n",
       "</div>"
      ],
      "text/plain": [
       "   episode_idx          topic  round  \\\n",
       "0            0  Elvis Presley      4   \n",
       "1            1        Ireland      3   \n",
       "2            2        Archery      3   \n",
       "\n",
       "                                             message  \\\n",
       "0  I would love to tour his home.  Which one of h...   \n",
       "1  Exactly, do you know any thing about Island no...   \n",
       "2  And a great sport it is. Do you know where arc...   \n",
       "\n",
       "                             response  \\\n",
       "0                       Elvis Presley   \n",
       "1  Wizard: Yes, I know about Ireland.   \n",
       "2               The Upper Paleolithic   \n",
       "\n",
       "                                           knowledge  \\\n",
       "0  Jailhouse Rock is a 1957 American musical dram...   \n",
       "1  The island has lush vegetation, a product of i...   \n",
       "2  Based on indirect evidence, the bow seems to h...   \n",
       "\n",
       "                                                gold  \n",
       "0  I always liked \"Hounddog.\" My grandpa heard El...  \n",
       "1  There are lots of low-lying mountains in Irela...  \n",
       "2  It's a very old one, practiced for at least 10...  "
      ]
     },
     "execution_count": 37,
     "metadata": {},
     "output_type": "execute_result"
    }
   ],
   "source": [
    "Q2_0.head(3)"
   ]
  },
  {
   "cell_type": "code",
   "execution_count": 42,
   "metadata": {},
   "outputs": [
    {
     "data": {
      "text/plain": [
       "'I always liked \"Hounddog.\" My grandpa heard Elvis sing it live in Memphis.'"
      ]
     },
     "execution_count": 42,
     "metadata": {},
     "output_type": "execute_result"
    }
   ],
   "source": [
    "Q2_0.iloc[0][\"gold\"]"
   ]
  },
  {
   "cell_type": "code",
   "execution_count": 43,
   "metadata": {},
   "outputs": [],
   "source": [
    "dodeca = pd.read_csv(\"/home/willy/comp5214-groundedness-kgd/data/Q2_baselines/dodeca_consistent.csv\")"
   ]
  },
  {
   "cell_type": "code",
   "execution_count": 44,
   "metadata": {},
   "outputs": [
    {
     "data": {
      "text/html": [
       "<div>\n",
       "<style scoped>\n",
       "    .dataframe tbody tr th:only-of-type {\n",
       "        vertical-align: middle;\n",
       "    }\n",
       "\n",
       "    .dataframe tbody tr th {\n",
       "        vertical-align: top;\n",
       "    }\n",
       "\n",
       "    .dataframe thead th {\n",
       "        text-align: right;\n",
       "    }\n",
       "</style>\n",
       "<table border=\"1\" class=\"dataframe\">\n",
       "  <thead>\n",
       "    <tr style=\"text-align: right;\">\n",
       "      <th></th>\n",
       "      <th>Unnamed: 0</th>\n",
       "      <th>episode_idx</th>\n",
       "      <th>round</th>\n",
       "      <th>topic</th>\n",
       "      <th>message</th>\n",
       "      <th>response</th>\n",
       "      <th>knowledge</th>\n",
       "      <th>gold</th>\n",
       "    </tr>\n",
       "  </thead>\n",
       "  <tbody>\n",
       "    <tr>\n",
       "      <th>0</th>\n",
       "      <td>0</td>\n",
       "      <td>0</td>\n",
       "      <td>0</td>\n",
       "      <td>Gardening</td>\n",
       "      <td>I like Gardening, even when I've only been doi...</td>\n",
       "      <td>i love gardening as well . it is considered to...</td>\n",
       "      <td>Gardening is considered by many people to be a...</td>\n",
       "      <td>I live on a farm, we garden all year long, it ...</td>\n",
       "    </tr>\n",
       "    <tr>\n",
       "      <th>1</th>\n",
       "      <td>1</td>\n",
       "      <td>1</td>\n",
       "      <td>2</td>\n",
       "      <td>Bob Ross</td>\n",
       "      <td>yes I like to watch that some times</td>\n",
       "      <td>it aired in the us , canada and latin america</td>\n",
       "      <td>He was the creator and host of \"The Joy of Pai...</td>\n",
       "      <td>The show aired from 1983 to 1994 on PBS.</td>\n",
       "    </tr>\n",
       "    <tr>\n",
       "      <th>2</th>\n",
       "      <td>2</td>\n",
       "      <td>4</td>\n",
       "      <td>1</td>\n",
       "      <td>Finance</td>\n",
       "      <td>Yes that's exactly the area of interest for me.</td>\n",
       "      <td>well , there are three categories of finance :...</td>\n",
       "      <td>Finance can be broken into three sub-categorie...</td>\n",
       "      <td>Great! There are three categories. The public,...</td>\n",
       "    </tr>\n",
       "  </tbody>\n",
       "</table>\n",
       "</div>"
      ],
      "text/plain": [
       "   Unnamed: 0  episode_idx  round      topic  \\\n",
       "0           0            0      0  Gardening   \n",
       "1           1            1      2   Bob Ross   \n",
       "2           2            4      1    Finance   \n",
       "\n",
       "                                             message  \\\n",
       "0  I like Gardening, even when I've only been doi...   \n",
       "1                yes I like to watch that some times   \n",
       "2    Yes that's exactly the area of interest for me.   \n",
       "\n",
       "                                            response  \\\n",
       "0  i love gardening as well . it is considered to...   \n",
       "1      it aired in the us , canada and latin america   \n",
       "2  well , there are three categories of finance :...   \n",
       "\n",
       "                                           knowledge  \\\n",
       "0  Gardening is considered by many people to be a...   \n",
       "1  He was the creator and host of \"The Joy of Pai...   \n",
       "2  Finance can be broken into three sub-categorie...   \n",
       "\n",
       "                                                gold  \n",
       "0  I live on a farm, we garden all year long, it ...  \n",
       "1           The show aired from 1983 to 1994 on PBS.  \n",
       "2  Great! There are three categories. The public,...  "
      ]
     },
     "execution_count": 44,
     "metadata": {},
     "output_type": "execute_result"
    }
   ],
   "source": [
    "dodeca.head(3)"
   ]
  },
  {
   "cell_type": "code",
   "execution_count": 2,
   "metadata": {},
   "outputs": [],
   "source": [
    "import pandas as pd\n",
    "q2_0 = pd.read_csv(\"/home/willy/comp5214-groundedness-kgd/data/Q2_run/Q2_0_shot.csv\")\n",
    "q2_1 = pd.read_csv(\"/home/willy/comp5214-groundedness-kgd/data/Q2_run/Q2_1_shot.csv\")\n",
    "q2_2 = pd.read_csv(\"/home/willy/comp5214-groundedness-kgd/data/Q2_run/Q2_2_shot.csv\")\n",
    "\n"
   ]
  },
  {
   "cell_type": "code",
   "execution_count": 6,
   "metadata": {},
   "outputs": [
    {
     "data": {
      "text/plain": [
       "nan"
      ]
     },
     "execution_count": 6,
     "metadata": {},
     "output_type": "execute_result"
    }
   ],
   "source": [
    "q2_0.iloc[67][\"knowledge\"]"
   ]
  },
  {
   "cell_type": "code",
   "execution_count": 1,
   "metadata": {},
   "outputs": [],
   "source": [
    "import pandas as pd"
   ]
  },
  {
   "cell_type": "code",
   "execution_count": 2,
   "metadata": {},
   "outputs": [],
   "source": [
    "Q2_0 = pd.read_csv(\"/home/willy/comp5214-groundedness-kgd/data/Q2_run/Q2_0_shot.csv\")\n",
    "Q2_1 = pd.read_csv(\"/home/willy/comp5214-groundedness-kgd/data/Q2_run/Q2_1_shot.csv\")\n",
    "Q2_2 = pd.read_csv(\"/home/willy/comp5214-groundedness-kgd/data/Q2_run/Q2_2_shot.csv\")\n",
    "prompt_0 = pd.read_csv(\"/home/willy/comp5214-groundedness-kgd/data/processed_prompt/prompts_0_shot.csv\")\n",
    "prompt_1 = pd.read_csv(\"/home/willy/comp5214-groundedness-kgd/data/processed_prompt/prompts_1_shot.csv\")\n",
    "prompt_2 = pd.read_csv(\"/home/willy/comp5214-groundedness-kgd/data/processed_prompt/prompts_2_shot.csv\")"
   ]
  },
  {
   "cell_type": "code",
   "execution_count": 4,
   "metadata": {},
   "outputs": [
    {
     "data": {
      "text/plain": [
       "episode_idx                                                   67\n",
       "topic                                                      Green\n",
       "round                                                          3\n",
       "message        wow! you know a lot about green. how did you l...\n",
       "response       Apprentice: I learned about colors from my tea...\n",
       "knowledge                                                    NaN\n",
       "gold                The philosopher Nelson Goodman described it.\n",
       "Name: 67, dtype: object"
      ]
     },
     "execution_count": 4,
     "metadata": {},
     "output_type": "execute_result"
    }
   ],
   "source": [
    "prompt_0.iloc[67]"
   ]
  },
  {
   "cell_type": "code",
   "execution_count": 5,
   "metadata": {},
   "outputs": [
    {
     "data": {
      "text/plain": [
       "episode_idx                                                   67\n",
       "topic                                                      Green\n",
       "round                                                          3\n",
       "message        wow! you know a lot about green. how did you l...\n",
       "response                                              Knocked Up\n",
       "knowledge                                                    NaN\n",
       "gold                The philosopher Nelson Goodman described it.\n",
       "Name: 67, dtype: object"
      ]
     },
     "execution_count": 5,
     "metadata": {},
     "output_type": "execute_result"
    }
   ],
   "source": [
    "prompt_1.iloc[67]"
   ]
  },
  {
   "cell_type": "code",
   "execution_count": 6,
   "metadata": {},
   "outputs": [
    {
     "data": {
      "text/plain": [
       "episode_idx                                                   67\n",
       "topic                                                      Green\n",
       "round                                                          3\n",
       "message        wow! you know a lot about green. how did you l...\n",
       "response       Mark Cuban purchased a majority stake in the N...\n",
       "knowledge                                                    NaN\n",
       "gold                The philosopher Nelson Goodman described it.\n",
       "Name: 67, dtype: object"
      ]
     },
     "execution_count": 6,
     "metadata": {},
     "output_type": "execute_result"
    }
   ],
   "source": [
    "prompt_2.iloc[67]"
   ]
  },
  {
   "cell_type": "code",
   "execution_count": 7,
   "metadata": {},
   "outputs": [],
   "source": [
    "import transformers"
   ]
  },
  {
   "cell_type": "code",
   "execution_count": 8,
   "metadata": {},
   "outputs": [
    {
     "data": {
      "text/plain": [
       "'4.12.2'"
      ]
     },
     "execution_count": 8,
     "metadata": {},
     "output_type": "execute_result"
    }
   ],
   "source": [
    "transformers.__version__"
   ]
  },
  {
   "cell_type": "code",
   "execution_count": 1,
   "metadata": {},
   "outputs": [
    {
     "data": {
      "text/plain": [
       "'3.2.0'"
      ]
     },
     "execution_count": 1,
     "metadata": {},
     "output_type": "execute_result"
    }
   ],
   "source": [
    "import transformers\n",
    "transformers.__version__"
   ]
  },
  {
   "cell_type": "code",
   "execution_count": null,
   "metadata": {},
   "outputs": [],
   "source": []
  }
 ],
 "metadata": {
  "interpreter": {
   "hash": "e7ed8ff54166aba97980a479c32401019115f43fcd2011f44c9495b667dcf326"
  },
  "kernelspec": {
   "display_name": "Python 3.8.5 ('recam')",
   "language": "python",
   "name": "python3"
  },
  "language_info": {
   "codemirror_mode": {
    "name": "ipython",
    "version": 3
   },
   "file_extension": ".py",
   "mimetype": "text/x-python",
   "name": "python",
   "nbconvert_exporter": "python",
   "pygments_lexer": "ipython3",
   "version": "3.8.5"
  },
  "orig_nbformat": 4
 },
 "nbformat": 4,
 "nbformat_minor": 2
}
